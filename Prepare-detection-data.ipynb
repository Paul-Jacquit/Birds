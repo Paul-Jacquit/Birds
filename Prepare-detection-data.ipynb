{
 "cells": [
  {
   "cell_type": "markdown",
   "source": [
    " Ce script prépare les données du full_dataset_annotation.json"
   ],
   "metadata": {
    "collapsed": false
   }
  },
  {
   "cell_type": "code",
   "execution_count": 1,
   "metadata": {
    "pycharm": {
     "is_executing": false
    }
   },
   "outputs": [],
   "source": [
    "\n",
    "import os\n",
    "import numpy as np\n",
    "import pandas as pd\n",
    "import json\n",
    "from datetime import datetime\n",
    "from datetime import timedelta \n",
    "from sklearn.model_selection import TimeSeriesSplit"
   ]
  },
  {
   "cell_type": "code",
   "execution_count": 2,
   "metadata": {
    "pycharm": {
     "is_executing": false
    }
   },
   "outputs": [],
   "source": [
    "default_path = 'LSC/'\n",
    "seed = 42\n",
    "np.random.seed(seed=seed)"
   ]
  },
  {
   "cell_type": "code",
   "execution_count": 3,
   "metadata": {
    "pycharm": {
     "is_executing": false
    },
    "scrolled": true
   },
   "outputs": [
    {
     "data": {
      "text/plain": "      timestamp  name latitude longitude step  gsr heart_rate skin_temp  \\\n0   1.47124e+09  Home      NaN       NaN  NaN  NaN        NaN       NaN   \n1   1.47124e+09  Home      NaN       NaN  NaN  NaN        NaN       NaN   \n2   1.47124e+09  Home      NaN       NaN  NaN  NaN        NaN       NaN   \n3   1.47124e+09  Home      NaN       NaN  NaN  NaN        NaN       NaN   \n4   1.47124e+09  Home      NaN       NaN  NaN  NaN        NaN       NaN   \n5   1.47124e+09  Home      NaN       NaN  NaN  NaN        NaN       NaN   \n6   1.47124e+09  Home      NaN       NaN  NaN  NaN        NaN       NaN   \n7   1.47124e+09  Home      NaN       NaN  NaN  NaN        NaN       NaN   \n8   1.47124e+09  Home      NaN       NaN  NaN  NaN        NaN       NaN   \n9   1.47124e+09  Home      NaN       NaN  NaN  NaN        NaN       NaN   \n10  1.47124e+09  Home      NaN       NaN  NaN  NaN        NaN       NaN   \n11  1.47124e+09  Home      NaN       NaN  NaN  NaN        NaN       NaN   \n12  1.47124e+09  Home      NaN       NaN  NaN  NaN        NaN       NaN   \n13  1.47124e+09  Home      NaN       NaN  NaN  NaN        NaN       NaN   \n14  1.47124e+09  Home      NaN       NaN  NaN  NaN        NaN       NaN   \n15  1.47124e+09  Home      NaN       NaN  NaN  NaN        NaN       NaN   \n16  1.47124e+09  Home      NaN       NaN  NaN  NaN        NaN       NaN   \n17  1.47124e+09  Home      NaN       NaN  NaN  NaN        NaN       NaN   \n18  1.47124e+09  Home      NaN       NaN  NaN  NaN        NaN       NaN   \n19  1.47124e+09  Home      NaN       NaN  NaN  NaN        NaN       NaN   \n\n   calories risk_situation  \n0       NaN            NaN  \n1       NaN            NaN  \n2       NaN            NaN  \n3       NaN            NaN  \n4       NaN            NaN  \n5       NaN            NaN  \n6       NaN            NaN  \n7       NaN            NaN  \n8       NaN            NaN  \n9       NaN            NaN  \n10      NaN            NaN  \n11      NaN            NaN  \n12      NaN            NaN  \n13      NaN            NaN  \n14      NaN            NaN  \n15      NaN            NaN  \n16      NaN            NaN  \n17      NaN            NaN  \n18      NaN            NaN  \n19      NaN            NaN  ",
      "text/html": "<div>\n<style scoped>\n    .dataframe tbody tr th:only-of-type {\n        vertical-align: middle;\n    }\n\n    .dataframe tbody tr th {\n        vertical-align: top;\n    }\n\n    .dataframe thead th {\n        text-align: right;\n    }\n</style>\n<table border=\"1\" class=\"dataframe\">\n  <thead>\n    <tr style=\"text-align: right;\">\n      <th></th>\n      <th>timestamp</th>\n      <th>name</th>\n      <th>latitude</th>\n      <th>longitude</th>\n      <th>step</th>\n      <th>gsr</th>\n      <th>heart_rate</th>\n      <th>skin_temp</th>\n      <th>calories</th>\n      <th>risk_situation</th>\n    </tr>\n  </thead>\n  <tbody>\n    <tr>\n      <th>0</th>\n      <td>1.47124e+09</td>\n      <td>Home</td>\n      <td>NaN</td>\n      <td>NaN</td>\n      <td>NaN</td>\n      <td>NaN</td>\n      <td>NaN</td>\n      <td>NaN</td>\n      <td>NaN</td>\n      <td>NaN</td>\n    </tr>\n    <tr>\n      <th>1</th>\n      <td>1.47124e+09</td>\n      <td>Home</td>\n      <td>NaN</td>\n      <td>NaN</td>\n      <td>NaN</td>\n      <td>NaN</td>\n      <td>NaN</td>\n      <td>NaN</td>\n      <td>NaN</td>\n      <td>NaN</td>\n    </tr>\n    <tr>\n      <th>2</th>\n      <td>1.47124e+09</td>\n      <td>Home</td>\n      <td>NaN</td>\n      <td>NaN</td>\n      <td>NaN</td>\n      <td>NaN</td>\n      <td>NaN</td>\n      <td>NaN</td>\n      <td>NaN</td>\n      <td>NaN</td>\n    </tr>\n    <tr>\n      <th>3</th>\n      <td>1.47124e+09</td>\n      <td>Home</td>\n      <td>NaN</td>\n      <td>NaN</td>\n      <td>NaN</td>\n      <td>NaN</td>\n      <td>NaN</td>\n      <td>NaN</td>\n      <td>NaN</td>\n      <td>NaN</td>\n    </tr>\n    <tr>\n      <th>4</th>\n      <td>1.47124e+09</td>\n      <td>Home</td>\n      <td>NaN</td>\n      <td>NaN</td>\n      <td>NaN</td>\n      <td>NaN</td>\n      <td>NaN</td>\n      <td>NaN</td>\n      <td>NaN</td>\n      <td>NaN</td>\n    </tr>\n    <tr>\n      <th>5</th>\n      <td>1.47124e+09</td>\n      <td>Home</td>\n      <td>NaN</td>\n      <td>NaN</td>\n      <td>NaN</td>\n      <td>NaN</td>\n      <td>NaN</td>\n      <td>NaN</td>\n      <td>NaN</td>\n      <td>NaN</td>\n    </tr>\n    <tr>\n      <th>6</th>\n      <td>1.47124e+09</td>\n      <td>Home</td>\n      <td>NaN</td>\n      <td>NaN</td>\n      <td>NaN</td>\n      <td>NaN</td>\n      <td>NaN</td>\n      <td>NaN</td>\n      <td>NaN</td>\n      <td>NaN</td>\n    </tr>\n    <tr>\n      <th>7</th>\n      <td>1.47124e+09</td>\n      <td>Home</td>\n      <td>NaN</td>\n      <td>NaN</td>\n      <td>NaN</td>\n      <td>NaN</td>\n      <td>NaN</td>\n      <td>NaN</td>\n      <td>NaN</td>\n      <td>NaN</td>\n    </tr>\n    <tr>\n      <th>8</th>\n      <td>1.47124e+09</td>\n      <td>Home</td>\n      <td>NaN</td>\n      <td>NaN</td>\n      <td>NaN</td>\n      <td>NaN</td>\n      <td>NaN</td>\n      <td>NaN</td>\n      <td>NaN</td>\n      <td>NaN</td>\n    </tr>\n    <tr>\n      <th>9</th>\n      <td>1.47124e+09</td>\n      <td>Home</td>\n      <td>NaN</td>\n      <td>NaN</td>\n      <td>NaN</td>\n      <td>NaN</td>\n      <td>NaN</td>\n      <td>NaN</td>\n      <td>NaN</td>\n      <td>NaN</td>\n    </tr>\n    <tr>\n      <th>10</th>\n      <td>1.47124e+09</td>\n      <td>Home</td>\n      <td>NaN</td>\n      <td>NaN</td>\n      <td>NaN</td>\n      <td>NaN</td>\n      <td>NaN</td>\n      <td>NaN</td>\n      <td>NaN</td>\n      <td>NaN</td>\n    </tr>\n    <tr>\n      <th>11</th>\n      <td>1.47124e+09</td>\n      <td>Home</td>\n      <td>NaN</td>\n      <td>NaN</td>\n      <td>NaN</td>\n      <td>NaN</td>\n      <td>NaN</td>\n      <td>NaN</td>\n      <td>NaN</td>\n      <td>NaN</td>\n    </tr>\n    <tr>\n      <th>12</th>\n      <td>1.47124e+09</td>\n      <td>Home</td>\n      <td>NaN</td>\n      <td>NaN</td>\n      <td>NaN</td>\n      <td>NaN</td>\n      <td>NaN</td>\n      <td>NaN</td>\n      <td>NaN</td>\n      <td>NaN</td>\n    </tr>\n    <tr>\n      <th>13</th>\n      <td>1.47124e+09</td>\n      <td>Home</td>\n      <td>NaN</td>\n      <td>NaN</td>\n      <td>NaN</td>\n      <td>NaN</td>\n      <td>NaN</td>\n      <td>NaN</td>\n      <td>NaN</td>\n      <td>NaN</td>\n    </tr>\n    <tr>\n      <th>14</th>\n      <td>1.47124e+09</td>\n      <td>Home</td>\n      <td>NaN</td>\n      <td>NaN</td>\n      <td>NaN</td>\n      <td>NaN</td>\n      <td>NaN</td>\n      <td>NaN</td>\n      <td>NaN</td>\n      <td>NaN</td>\n    </tr>\n    <tr>\n      <th>15</th>\n      <td>1.47124e+09</td>\n      <td>Home</td>\n      <td>NaN</td>\n      <td>NaN</td>\n      <td>NaN</td>\n      <td>NaN</td>\n      <td>NaN</td>\n      <td>NaN</td>\n      <td>NaN</td>\n      <td>NaN</td>\n    </tr>\n    <tr>\n      <th>16</th>\n      <td>1.47124e+09</td>\n      <td>Home</td>\n      <td>NaN</td>\n      <td>NaN</td>\n      <td>NaN</td>\n      <td>NaN</td>\n      <td>NaN</td>\n      <td>NaN</td>\n      <td>NaN</td>\n      <td>NaN</td>\n    </tr>\n    <tr>\n      <th>17</th>\n      <td>1.47124e+09</td>\n      <td>Home</td>\n      <td>NaN</td>\n      <td>NaN</td>\n      <td>NaN</td>\n      <td>NaN</td>\n      <td>NaN</td>\n      <td>NaN</td>\n      <td>NaN</td>\n      <td>NaN</td>\n    </tr>\n    <tr>\n      <th>18</th>\n      <td>1.47124e+09</td>\n      <td>Home</td>\n      <td>NaN</td>\n      <td>NaN</td>\n      <td>NaN</td>\n      <td>NaN</td>\n      <td>NaN</td>\n      <td>NaN</td>\n      <td>NaN</td>\n      <td>NaN</td>\n    </tr>\n    <tr>\n      <th>19</th>\n      <td>1.47124e+09</td>\n      <td>Home</td>\n      <td>NaN</td>\n      <td>NaN</td>\n      <td>NaN</td>\n      <td>NaN</td>\n      <td>NaN</td>\n      <td>NaN</td>\n      <td>NaN</td>\n      <td>NaN</td>\n    </tr>\n  </tbody>\n</table>\n</div>"
     },
     "metadata": {},
     "output_type": "execute_result",
     "execution_count": 3
    }
   ],
   "source": [
    "with open('LSC/full_dataset_annotation.json') as f:\n",
    "    data = json.loads(f.read())\n",
    "name,lat,lng,risk_situation,step,gsr,heart_rate,skin_temp,calories,timestamp = [],[],[],[],[],[],[],[],[],[]\n",
    "for date in data:\n",
    "    tmp = date\n",
    "    date_split = tmp.split(\"-\")\n",
    "    yy = date_split[0]\n",
    "    mm = date_split[1]\n",
    "    dd = date_split[2]\n",
    "    stamp = datetime(int(yy),int(mm),int(dd),int('08'),int('00'),int('00'))\n",
    "    if data[date][\"minutes\"][str(0)]['image']['image-id']is None:\n",
    "        timestamp_ = datetime.timestamp(stamp)\n",
    "        timestamp.append(timestamp_)\n",
    "    for result in data[date]:\n",
    "        if(result !='image-directory'): \n",
    "            ctr = 1\n",
    "            for i in data[date][result]:\n",
    "                if data[date][result][str(i)]['image']['image-id'] is None:\n",
    "                    date_pred = datetime.fromtimestamp(timestamp[ctr-1])\n",
    "                    date_co = date_pred+timedelta(seconds=87)\n",
    "                    date_co_ = datetime.timestamp(date_pred+timedelta(seconds=87))\n",
    "                    timestamp.append(date_co_)\n",
    "                else:\n",
    "                    tmp_loc = data[date][result][str(i)]['image']['image-id'].split(\"_\")\n",
    "                    my_date_loc = tmp[1]\n",
    "                    date_split_loc = date.split(\"-\")\n",
    "                    yy_loc = date_split[0]\n",
    "                    mm_loc = date_split[1]\n",
    "                    dd_loc = date_split[2]\n",
    "                    my_time_loc = tmp_loc[2]\n",
    "                    h=my_time_loc[0]+my_time_loc[1]\n",
    "                    m=my_time_loc[2]+my_time_loc[3]\n",
    "                    s=my_time_loc[4]+my_time_loc[5]\n",
    "                    stamp = datetime(int(yy_loc),int(mm_loc),int(dd_loc),int(h),int(m),int(s))\n",
    "                    timestamp_ = datetime.timestamp(stamp)\n",
    "                    timestamp.append(timestamp_)\n",
    "                ctr = ctr + 1\n",
    "                if(len(data[date][result][str(i)]['location']['name']) == 0):\n",
    "                    name.append(np.nan)\n",
    "                else:\n",
    "                    name.append(data[date][result][str(i)]['location']['name'])\n",
    "                    \n",
    "                if(len(data[date][result][str(i)]['location']['latitude']) == 0):\n",
    "                    lat.append(np.nan)\n",
    "                else:\n",
    "                    lat.append(data[date][result][str(i)]['location']['latitude'])\n",
    "                    \n",
    "                if(len(data[date][result][str(i)]['location']['longitude']) == 0):\n",
    "                    lng.append(np.nan)\n",
    "                else:\n",
    "                    lat.append(data[date][result][str(i)]['location']['longitude'])\n",
    "                    \n",
    "                if(data[date][result][str(i)]['image']['risk_situation'] is None):\n",
    "                    risk_situation.append(np.nan)\n",
    "                else:\n",
    "                    risk_situation.append(data[date][result][str(i)]['image']['risk_situation'])\n",
    "                    \n",
    "                if(data[date][result][str(i)]['bodymetrics']['steps'] is None):\n",
    "                    step.append(np.nan)\n",
    "                else:\n",
    "                    step.append(data[date][result][str(i)]['bodymetrics']['steps'])\n",
    "                    \n",
    "                if(data[date][result][str(i)]['bodymetrics']['gsr'] is None):\n",
    "                    gsr.append(np.nan)\n",
    "                else:\n",
    "                    gsr.append(data[date][result][str(i)]['bodymetrics']['gsr'])  \n",
    "                \n",
    "                if(data[date][result][str(i)]['bodymetrics']['heart-rate'] is None):\n",
    "                    heart_rate.append(np.nan)\n",
    "                else:\n",
    "                    heart_rate.append(data[date][result][str(i)]['bodymetrics']['heart-rate'])\n",
    "                    \n",
    "                if(data[date][result][str(i)]['bodymetrics']['skin-temp'] is None):\n",
    "                    skin_temp.append(np.nan)\n",
    "                else:\n",
    "                    skin_temp.append(data[date][result][str(i)]['bodymetrics']['skin-temp'])\n",
    "                    \n",
    "                if(data[date][result][str(i)]['bodymetrics']['calories'] is None):\n",
    "                    calories.append(np.nan)\n",
    "                else:\n",
    "                    calories.append(data[date][result][str(i)]['bodymetrics']['calories'])\n",
    "                \n",
    "df = pd.DataFrame([timestamp,name,lat,lng,step,gsr,heart_rate,skin_temp,calories,risk_situation]).T\n",
    "df.columns = [\"timestamp\",\"name\", \"latitude\", \"longitude\", \"step\",\"gsr\",\"heart_rate\",\"skin_temp\",\"calories\",\"risk_situation\"]\n",
    "df.head(20)\n",
    "\n"
   ]
  },
  {
   "cell_type": "code",
   "execution_count": 22,
   "metadata": {
    "pycharm": {
     "is_executing": false
    }
   },
   "outputs": [
    {
     "name": "stdout",
     "text": [
      "(55032, 10)\n"
     ],
     "output_type": "stream"
    },
    {
     "data": {
      "text/plain": "     timestamp  name latitude longitude step  gsr heart_rate skin_temp  \\\n0  1.47124e+09  Home      NaN       NaN  NaN  NaN        NaN       NaN   \n1  1.47124e+09  Home      NaN       NaN  NaN  NaN        NaN       NaN   \n2  1.47124e+09  Home      NaN       NaN  NaN  NaN        NaN       NaN   \n3  1.47124e+09  Home      NaN       NaN  NaN  NaN        NaN       NaN   \n4  1.47124e+09  Home      NaN       NaN  NaN  NaN        NaN       NaN   \n5  1.47124e+09  Home      NaN       NaN  NaN  NaN        NaN       NaN   \n6  1.47124e+09  Home      NaN       NaN  NaN  NaN        NaN       NaN   \n7  1.47124e+09  Home      NaN       NaN  NaN  NaN        NaN       NaN   \n8  1.47124e+09  Home      NaN       NaN  NaN  NaN        NaN       NaN   \n9  1.47124e+09  Home      NaN       NaN  NaN  NaN        NaN       NaN   \n\n  calories risk_situation  \n0      NaN            NaN  \n1      NaN            NaN  \n2      NaN            NaN  \n3      NaN            NaN  \n4      NaN            NaN  \n5      NaN            NaN  \n6      NaN            NaN  \n7      NaN            NaN  \n8      NaN            NaN  \n9      NaN            NaN  ",
      "text/html": "<div>\n<style scoped>\n    .dataframe tbody tr th:only-of-type {\n        vertical-align: middle;\n    }\n\n    .dataframe tbody tr th {\n        vertical-align: top;\n    }\n\n    .dataframe thead th {\n        text-align: right;\n    }\n</style>\n<table border=\"1\" class=\"dataframe\">\n  <thead>\n    <tr style=\"text-align: right;\">\n      <th></th>\n      <th>timestamp</th>\n      <th>name</th>\n      <th>latitude</th>\n      <th>longitude</th>\n      <th>step</th>\n      <th>gsr</th>\n      <th>heart_rate</th>\n      <th>skin_temp</th>\n      <th>calories</th>\n      <th>risk_situation</th>\n    </tr>\n  </thead>\n  <tbody>\n    <tr>\n      <th>0</th>\n      <td>1.47124e+09</td>\n      <td>Home</td>\n      <td>NaN</td>\n      <td>NaN</td>\n      <td>NaN</td>\n      <td>NaN</td>\n      <td>NaN</td>\n      <td>NaN</td>\n      <td>NaN</td>\n      <td>NaN</td>\n    </tr>\n    <tr>\n      <th>1</th>\n      <td>1.47124e+09</td>\n      <td>Home</td>\n      <td>NaN</td>\n      <td>NaN</td>\n      <td>NaN</td>\n      <td>NaN</td>\n      <td>NaN</td>\n      <td>NaN</td>\n      <td>NaN</td>\n      <td>NaN</td>\n    </tr>\n    <tr>\n      <th>2</th>\n      <td>1.47124e+09</td>\n      <td>Home</td>\n      <td>NaN</td>\n      <td>NaN</td>\n      <td>NaN</td>\n      <td>NaN</td>\n      <td>NaN</td>\n      <td>NaN</td>\n      <td>NaN</td>\n      <td>NaN</td>\n    </tr>\n    <tr>\n      <th>3</th>\n      <td>1.47124e+09</td>\n      <td>Home</td>\n      <td>NaN</td>\n      <td>NaN</td>\n      <td>NaN</td>\n      <td>NaN</td>\n      <td>NaN</td>\n      <td>NaN</td>\n      <td>NaN</td>\n      <td>NaN</td>\n    </tr>\n    <tr>\n      <th>4</th>\n      <td>1.47124e+09</td>\n      <td>Home</td>\n      <td>NaN</td>\n      <td>NaN</td>\n      <td>NaN</td>\n      <td>NaN</td>\n      <td>NaN</td>\n      <td>NaN</td>\n      <td>NaN</td>\n      <td>NaN</td>\n    </tr>\n    <tr>\n      <th>5</th>\n      <td>1.47124e+09</td>\n      <td>Home</td>\n      <td>NaN</td>\n      <td>NaN</td>\n      <td>NaN</td>\n      <td>NaN</td>\n      <td>NaN</td>\n      <td>NaN</td>\n      <td>NaN</td>\n      <td>NaN</td>\n    </tr>\n    <tr>\n      <th>6</th>\n      <td>1.47124e+09</td>\n      <td>Home</td>\n      <td>NaN</td>\n      <td>NaN</td>\n      <td>NaN</td>\n      <td>NaN</td>\n      <td>NaN</td>\n      <td>NaN</td>\n      <td>NaN</td>\n      <td>NaN</td>\n    </tr>\n    <tr>\n      <th>7</th>\n      <td>1.47124e+09</td>\n      <td>Home</td>\n      <td>NaN</td>\n      <td>NaN</td>\n      <td>NaN</td>\n      <td>NaN</td>\n      <td>NaN</td>\n      <td>NaN</td>\n      <td>NaN</td>\n      <td>NaN</td>\n    </tr>\n    <tr>\n      <th>8</th>\n      <td>1.47124e+09</td>\n      <td>Home</td>\n      <td>NaN</td>\n      <td>NaN</td>\n      <td>NaN</td>\n      <td>NaN</td>\n      <td>NaN</td>\n      <td>NaN</td>\n      <td>NaN</td>\n      <td>NaN</td>\n    </tr>\n    <tr>\n      <th>9</th>\n      <td>1.47124e+09</td>\n      <td>Home</td>\n      <td>NaN</td>\n      <td>NaN</td>\n      <td>NaN</td>\n      <td>NaN</td>\n      <td>NaN</td>\n      <td>NaN</td>\n      <td>NaN</td>\n      <td>NaN</td>\n    </tr>\n  </tbody>\n</table>\n</div>"
     },
     "metadata": {},
     "output_type": "execute_result",
     "execution_count": 22
    }
   ],
   "source": [
    "def creat_missing_values(df, nb_rows_to_del=1):\n",
    "    nb_rows = df.shape[0]\n",
    "    nb_columns = df.shape[1]\n",
    "    index_still = np.arange(nb_rows)\n",
    "    #print(index_still)\n",
    "    df_copy = df.copy()\n",
    "    if nb_rows_to_del < nb_rows:\n",
    "        while nb_rows-len(index_still)<nb_rows_to_del:\n",
    "            index_del = np.random.randint(len(index_still)-1)\n",
    "            timestamp_saved = df.iloc[index_del].__getitem__('timestamp')\n",
    "            #print(timestamp_saved)\n",
    "            df_copy.iloc[index_del] = [np.nan for i in range(nb_columns)]\n",
    "            #print(df_copy.iloc[index_del])\n",
    "            df_copy.loc[index_del, 'timestamp'] = timestamp_saved\n",
    "            #print(df_copy.iloc[index_del])\n",
    "            index_still = np.delete(index_still,index_del)\n",
    "    return df_copy\n",
    "df_truncated_missing_data = creat_missing_values(df)\n",
    "print(df_truncated_missing_data.shape)\n",
    "df_truncated_missing_data.head(10)\n",
    "\n"
   ]
  },
  {
   "cell_type": "code",
   "execution_count": 5,
   "metadata": {
    "pycharm": {
     "is_executing": false
    }
   },
   "outputs": [
    {
     "data": {
      "text/plain": "  name latitude longitude step gsr heart_rate skin_temp calories  \\\n0    1        0         0    0   0          0         0        0   \n1    1        0         0    0   0          0         0        0   \n2    1        0         0    0   0          0         0        0   \n3    1        0         0    0   0          0         0        0   \n4    1        0         0    0   0          0         0        0   \n5    1        0         0    0   0          0         0        0   \n6    1        0         0    0   0          0         0        0   \n7    1        0         0    0   0          0         0        0   \n8    1        0         0    0   0          0         0        0   \n9    1        0         0    0   0          0         0        0   \n\n  risk_situation  \n0              0  \n1              0  \n2              0  \n3              0  \n4              0  \n5              0  \n6              0  \n7              0  \n8              0  \n9              0  ",
      "text/html": "<div>\n<style scoped>\n    .dataframe tbody tr th:only-of-type {\n        vertical-align: middle;\n    }\n\n    .dataframe tbody tr th {\n        vertical-align: top;\n    }\n\n    .dataframe thead th {\n        text-align: right;\n    }\n</style>\n<table border=\"1\" class=\"dataframe\">\n  <thead>\n    <tr style=\"text-align: right;\">\n      <th></th>\n      <th>name</th>\n      <th>latitude</th>\n      <th>longitude</th>\n      <th>step</th>\n      <th>gsr</th>\n      <th>heart_rate</th>\n      <th>skin_temp</th>\n      <th>calories</th>\n      <th>risk_situation</th>\n    </tr>\n  </thead>\n  <tbody>\n    <tr>\n      <th>0</th>\n      <td>1</td>\n      <td>0</td>\n      <td>0</td>\n      <td>0</td>\n      <td>0</td>\n      <td>0</td>\n      <td>0</td>\n      <td>0</td>\n      <td>0</td>\n    </tr>\n    <tr>\n      <th>1</th>\n      <td>1</td>\n      <td>0</td>\n      <td>0</td>\n      <td>0</td>\n      <td>0</td>\n      <td>0</td>\n      <td>0</td>\n      <td>0</td>\n      <td>0</td>\n    </tr>\n    <tr>\n      <th>2</th>\n      <td>1</td>\n      <td>0</td>\n      <td>0</td>\n      <td>0</td>\n      <td>0</td>\n      <td>0</td>\n      <td>0</td>\n      <td>0</td>\n      <td>0</td>\n    </tr>\n    <tr>\n      <th>3</th>\n      <td>1</td>\n      <td>0</td>\n      <td>0</td>\n      <td>0</td>\n      <td>0</td>\n      <td>0</td>\n      <td>0</td>\n      <td>0</td>\n      <td>0</td>\n    </tr>\n    <tr>\n      <th>4</th>\n      <td>1</td>\n      <td>0</td>\n      <td>0</td>\n      <td>0</td>\n      <td>0</td>\n      <td>0</td>\n      <td>0</td>\n      <td>0</td>\n      <td>0</td>\n    </tr>\n    <tr>\n      <th>5</th>\n      <td>1</td>\n      <td>0</td>\n      <td>0</td>\n      <td>0</td>\n      <td>0</td>\n      <td>0</td>\n      <td>0</td>\n      <td>0</td>\n      <td>0</td>\n    </tr>\n    <tr>\n      <th>6</th>\n      <td>1</td>\n      <td>0</td>\n      <td>0</td>\n      <td>0</td>\n      <td>0</td>\n      <td>0</td>\n      <td>0</td>\n      <td>0</td>\n      <td>0</td>\n    </tr>\n    <tr>\n      <th>7</th>\n      <td>1</td>\n      <td>0</td>\n      <td>0</td>\n      <td>0</td>\n      <td>0</td>\n      <td>0</td>\n      <td>0</td>\n      <td>0</td>\n      <td>0</td>\n    </tr>\n    <tr>\n      <th>8</th>\n      <td>1</td>\n      <td>0</td>\n      <td>0</td>\n      <td>0</td>\n      <td>0</td>\n      <td>0</td>\n      <td>0</td>\n      <td>0</td>\n      <td>0</td>\n    </tr>\n    <tr>\n      <th>9</th>\n      <td>1</td>\n      <td>0</td>\n      <td>0</td>\n      <td>0</td>\n      <td>0</td>\n      <td>0</td>\n      <td>0</td>\n      <td>0</td>\n      <td>0</td>\n    </tr>\n  </tbody>\n</table>\n</div>"
     },
     "metadata": {},
     "output_type": "execute_result",
     "execution_count": 5
    }
   ],
   "source": [
    "def create_mask(df):\n",
    "    mask = df_truncated_missing_data.copy()\n",
    "    mask=mask.drop(['timestamp'], axis = 1) \n",
    "    mask = mask.where(mask.isnull(),1)\n",
    "    mask = mask.where(mask.isnull()!=True,0)\n",
    "    return mask\n",
    "    #return df_\n",
    "Mask = create_mask(df)\n",
    "Mask.head(10)"
   ]
  },
  {
   "cell_type": "code",
   "execution_count": 14,
   "metadata": {
    "pycharm": {
     "is_executing": false
    }
   },
   "outputs": [
    {
     "name": "stdout",
     "text": [
      "[[1471240800.0 'Home' nan ... nan nan nan]\n",
      " [1471240887.0 'Home' nan ... nan nan nan]\n",
      " [1471240974.0 'Home' nan ... nan nan nan]\n",
      " ...\n",
      " [nan nan nan ... nan nan nan]\n",
      " [nan nan nan ... nan nan nan]\n",
      " [nan nan nan ... nan nan nan]]\n"
     ],
     "output_type": "stream"
    }
   ],
   "source": [
    "all_timestamp = df_truncated_missing_data.timestamp.values\n",
    "processed_data = {\n",
    "    'input': np.asarray(df_truncated_missing_data),\n",
    "    'masking': np.asarray(Mask)\n",
    "}\n",
    "print(processed_data['input'])\n",
    "n = len(timestamp)"
   ]
  },
  {
   "cell_type": "code",
   "execution_count": 7,
   "metadata": {
    "pycharm": {
     "is_executing": false
    }
   },
   "outputs": [],
   "source": [
    "# process label\n",
    "processed_label = {\n",
    "    'label_risk_situation': np.asarray([df['risk_situation'].values for df_ in df_truncated_missing_data])\n",
    "}"
   ]
  },
  {
   "cell_type": "code",
   "execution_count": 8,
   "metadata": {
    "pycharm": {
     "is_executing": false
    }
   },
   "outputs": [
    {
     "name": "stdout",
     "text": [
      "The data files will be converted and saved here:  .\\data\\detection\n"
     ],
     "output_type": "stream"
    }
   ],
   "source": [
    "detection_root_folder = os.path.join('detection_datas/')\n",
    "grud_working_folder = '.' # # This should be the [WD] (working directory) of the GRU-D project.\n",
    "grud_detection_data_folder = os.path.join(grud_working_folder, 'data', 'detection')\n",
    "if not os.path.exists(grud_detection_data_folder):\n",
    "    os.makedirs(grud_detection_data_folder)\n",
    "print('The data files will be converted and saved here: ', grud_detection_data_folder)"
   ]
  },
  {
   "cell_type": "code",
   "execution_count": 9,
   "metadata": {
    "pycharm": {
     "is_executing": false
    }
   },
   "outputs": [],
   "source": [
    "np.savez_compressed(os.path.join(grud_detection_data_folder, 'data.npz'), timestamp=all_timestamp, **processed_data, **processed_label)"
   ]
  },
  {
   "cell_type": "code",
   "execution_count": 17,
   "metadata": {
    "pycharm": {
     "is_executing": false
    }
   },
   "outputs": [],
   "source": [
    "#n = processed_label['label_risk_situation'].shape[0]\n",
    "n = len(processed_label['label_risk_situation'])\n",
    "processed_fold = {\n",
    "    'fold_risk_situation': np.empty([n,5,3], dtype=object)\n",
    "}\n",
    "# process statistics\n",
    "# n_labeltype, 1, n_fold, (ts, nts), (mean, std)\n",
    "processed_stats = {\n",
    "    'mean_risk_situation': np.empty([n,5,3], dtype=object),\n",
    "    'std_risk_situation': np.empty([n,5,3], dtype=object)\n",
    "}"
   ]
  },
  {
   "cell_type": "code",
   "execution_count": 21,
   "metadata": {
    "pycharm": {
     "is_executing": false
    }
   },
   "outputs": [],
   "source": [
    "ts = TimeSeriesSplit(n_splits=5)\n",
    "val_rate = 0.2\n",
    "for n, inputs in enumerate(processed_data['input']):\n",
    "    for i,(train_index, test_index) in enumerate(ts.split(inputs)): \n",
    "        X_train, X_test = inputs[train_index], inputs[test_index]\n",
    "        X_train, X_val = X_train[0:int(len(X_train)*(1-val_rate))], X_train[int(len(X_train)*(1-val_rate)):]\n",
    "\n",
    "        if n < 10:\n",
    "            processed_fold['fold_risk_situation'][n][i][0] = np.asarray(train_index[0:int(len(X_train)*(1-val_rate))])\n",
    "            processed_fold['fold_risk_situation'][n][i][1] = np.asarray(train_index[int(len(X_train)*(1-val_rate)):])\n",
    "            processed_fold['fold_risk_situation'][n][i][2] = np.asarray(test_index)\n",
    "            processed_stats['mean_risk_situation'][n][i][0] = np.asarray([np.mean(X_train[0]) for i in range(X_train.shape[0])])\n",
    "            processed_stats['std_risk_situation'][n][i][0] = np.asarray([np.std(X_train[0]) for i in range(X_train.shape[0])])"
   ]
  },
  {
   "cell_type": "code",
   "execution_count": 20,
   "metadata": {
    "pycharm": {
     "is_executing": false
    }
   },
   "outputs": [],
   "source": [
    "np.savez_compressed(os.path.join(grud_detection_data_folder, 'fold.npz'), **processed_fold, **processed_stats)"
   ]
  },
  {
   "cell_type": "code",
   "execution_count": 13,
   "metadata": {
    "pycharm": {
     "is_executing": false,
     "name": "#%%\n"
    }
   },
   "outputs": [
    {
     "name": "stdout",
     "text": [
      "timestamp (55032,)\n",
      "input (55032, 10)\n",
      "masking (55032, 9)\n",
      "label_risk_situation (10, 55032)\n",
      "(10,)\n",
      "fold_risk_situation (10, 5, 3)\n",
      "\t [(3,), (3,), (3,), (3,), (3,)]\n",
      "\t [(3,), (3,), (3,), (3,), (3,)]\n",
      "\t [(3,), (3,), (3,), (3,), (3,)]\n",
      "\t [(3,), (3,), (3,), (3,), (3,)]\n",
      "\t [(3,), (3,), (3,), (3,), (3,)]\n",
      "\t [(3,), (3,), (3,), (3,), (3,)]\n",
      "\t [(3,), (3,), (3,), (3,), (3,)]\n",
      "\t [(3,), (3,), (3,), (3,), (3,)]\n",
      "\t [(3,), (3,), (3,), (3,), (3,)]\n",
      "\t [(3,), (3,), (3,), (3,), (3,)]\n",
      "mean_risk_situation (10, 5, 3)\n",
      "\t [(3,), (3,), (3,), (3,), (3,)]\n",
      "\t [(3,), (3,), (3,), (3,), (3,)]\n",
      "\t [(3,), (3,), (3,), (3,), (3,)]\n",
      "\t [(3,), (3,), (3,), (3,), (3,)]\n",
      "\t [(3,), (3,), (3,), (3,), (3,)]\n",
      "\t [(3,), (3,), (3,), (3,), (3,)]\n",
      "\t [(3,), (3,), (3,), (3,), (3,)]\n",
      "\t [(3,), (3,), (3,), (3,), (3,)]\n",
      "\t [(3,), (3,), (3,), (3,), (3,)]\n",
      "\t [(3,), (3,), (3,), (3,), (3,)]\n",
      "std_risk_situation (10, 5, 3)\n",
      "\t [(3,), (3,), (3,), (3,), (3,)]\n",
      "\t [(3,), (3,), (3,), (3,), (3,)]\n",
      "\t [(3,), (3,), (3,), (3,), (3,)]\n",
      "\t [(3,), (3,), (3,), (3,), (3,)]\n",
      "\t [(3,), (3,), (3,), (3,), (3,)]\n",
      "\t [(3,), (3,), (3,), (3,), (3,)]\n",
      "\t [(3,), (3,), (3,), (3,), (3,)]\n",
      "\t [(3,), (3,), (3,), (3,), (3,)]\n",
      "\t [(3,), (3,), (3,), (3,), (3,)]\n",
      "\t [(3,), (3,), (3,), (3,), (3,)]\n"
     ],
     "output_type": "stream"
    }
   ],
   "source": [
    "data = np.load(os.path.join(grud_detection_data_folder, 'data.npz'),allow_pickle=True)\n",
    "for k in data.keys():\n",
    "    print(k, data[k].shape)\n",
    "print(data['input'][1].shape)\n",
    "\n",
    "fold = np.load(os.path.join(grud_detection_data_folder, 'fold.npz'),allow_pickle=True)\n",
    "for k in fold.keys():\n",
    "    print(k, fold[k].shape)\n",
    "    for f in fold[k]:\n",
    "        print('\\t', [x.shape for x in f])\n"
   ]
  }
 ],
 "metadata": {
  "kernelspec": {
   "display_name": "Python 3",
   "language": "python",
   "name": "python3"
  },
  "language_info": {
   "codemirror_mode": {
    "name": "ipython",
    "version": 3
   },
   "file_extension": ".py",
   "mimetype": "text/x-python",
   "name": "python",
   "nbconvert_exporter": "python",
   "pygments_lexer": "ipython3",
   "version": "3.6.1"
  },
  "pycharm": {
   "stem_cell": {
    "cell_type": "raw",
    "source": [],
    "metadata": {
     "collapsed": false
    }
   }
  }
 },
 "nbformat": 4,
 "nbformat_minor": 2
}
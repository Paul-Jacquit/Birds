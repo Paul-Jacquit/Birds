{
 "cells": [
  {
   "cell_type": "markdown",
   "source": [
    " Ce script prépare et réalise des prédiction grâce à un classifieur KNN"
   ],
   "metadata": {
    "collapsed": false
   }
  },
  {
   "cell_type": "code",
   "execution_count": 1,
   "metadata": {
    "pycharm": {
     "is_executing": false
    }
   },
   "outputs": [
    {
     "name": "stderr",
     "text": [
      "Using TensorFlow backend.\n"
     ],
     "output_type": "stream"
    }
   ],
   "source": [
    "\n",
    "\n",
    "import pandas as pd\n",
    "import numpy as np\n",
    "import matplotlib.pyplot as plt\n",
    "\n",
    "from sklearn.model_selection import train_test_split\n",
    "from sklearn.preprocessing import StandardScaler"
   ]
  },
  {
   "cell_type": "markdown",
   "metadata": {},
   "source": [
    "## Prepare data"
   ]
  },
  {
   "cell_type": "code",
   "execution_count": 2,
   "metadata": {
    "pycharm": {
     "is_executing": false
    }
   },
   "outputs": [],
   "source": [
    "## Ajouter un des datasets .pkl à ce projet depuis :  \n",
    "## https://archive.ics.uci.edu/ml/datasets/WESAD+%28Wearable+Stress+and+Affect+Detection%29\n",
    "unpickled_df = pd.read_pickle(\"./S7.pkl\")"
   ]
  },
  {
   "cell_type": "code",
   "execution_count": 3,
   "metadata": {
    "pycharm": {
     "is_executing": false
    }
   },
   "outputs": [
    {
     "data": {
      "text/plain": "                                                     ACC  \\\nchest  [[1.0696001052856445, -0.013999998569488525, 1...   \nwrist  [[127.0, -50.0, 127.0], [127.0, 46.0, -8.0], [...   \n\n                                                     ECG  \\\nchest  [[-0.01922607421875], [-0.016937255859375], [-...   \nwrist                                                NaN   \n\n                                                     EMG  \\\nchest  [[-0.0488433837890625], [-0.0070037841796875],...   \nwrist                                                NaN   \n\n                                                     EDA  \\\nchest  [[12.506866455078125], [12.468719482421875], [...   \nwrist  [[5.969716], [6.1002], [6.096362], [6.088686],...   \n\n                                                    Temp  \\\nchest  [[33.99353], [33.93268], [33.970703], [34.0087...   \nwrist                                                NaN   \n\n                                                    Resp  \\\nchest  [[1.83258056640625], [1.83563232421875], [1.85...   \nwrist                                                NaN   \n\n                                                     BVP  \\\nchest                                                NaN   \nwrist  [[9.57], [7.41], [5.11], [2.84], [0.72], [-1.2...   \n\n                                                    TEMP  \nchest                                                NaN  \nwrist  [[33.25], [33.25], [33.25], [33.25], [33.31], ...  ",
      "text/html": "<div>\n<style scoped>\n    .dataframe tbody tr th:only-of-type {\n        vertical-align: middle;\n    }\n\n    .dataframe tbody tr th {\n        vertical-align: top;\n    }\n\n    .dataframe thead th {\n        text-align: right;\n    }\n</style>\n<table border=\"1\" class=\"dataframe\">\n  <thead>\n    <tr style=\"text-align: right;\">\n      <th></th>\n      <th>ACC</th>\n      <th>ECG</th>\n      <th>EMG</th>\n      <th>EDA</th>\n      <th>Temp</th>\n      <th>Resp</th>\n      <th>BVP</th>\n      <th>TEMP</th>\n    </tr>\n  </thead>\n  <tbody>\n    <tr>\n      <th>chest</th>\n      <td>[[1.0696001052856445, -0.013999998569488525, 1...</td>\n      <td>[[-0.01922607421875], [-0.016937255859375], [-...</td>\n      <td>[[-0.0488433837890625], [-0.0070037841796875],...</td>\n      <td>[[12.506866455078125], [12.468719482421875], [...</td>\n      <td>[[33.99353], [33.93268], [33.970703], [34.0087...</td>\n      <td>[[1.83258056640625], [1.83563232421875], [1.85...</td>\n      <td>NaN</td>\n      <td>NaN</td>\n    </tr>\n    <tr>\n      <th>wrist</th>\n      <td>[[127.0, -50.0, 127.0], [127.0, 46.0, -8.0], [...</td>\n      <td>NaN</td>\n      <td>NaN</td>\n      <td>[[5.969716], [6.1002], [6.096362], [6.088686],...</td>\n      <td>NaN</td>\n      <td>NaN</td>\n      <td>[[9.57], [7.41], [5.11], [2.84], [0.72], [-1.2...</td>\n      <td>[[33.25], [33.25], [33.25], [33.25], [33.31], ...</td>\n    </tr>\n  </tbody>\n</table>\n</div>"
     },
     "metadata": {},
     "output_type": "execute_result",
     "execution_count": 3
    }
   ],
   "source": [
    "df = pd.DataFrame(unpickled_df, columns=['signal'])  \n",
    "labels = pd.DataFrame(unpickled_df, columns=['label'])  \n",
    "df['signal'].apply(pd.Series)"
   ]
  },
  {
   "cell_type": "code",
   "execution_count": 4,
   "metadata": {
    "pycharm": {
     "is_executing": false
    }
   },
   "outputs": [],
   "source": [
    "dfChest = df.drop('wrist')\n",
    "dfChest = pd.DataFrame.from_records(dfChest.signal.tolist())"
   ]
  },
  {
   "cell_type": "code",
   "execution_count": 5,
   "metadata": {
    "pycharm": {
     "is_executing": false
    }
   },
   "outputs": [
    {
     "data": {
      "text/plain": "array([[-1.92260742e-02,  1.25068665e+01, -4.88433838e-02,\n         1.83258057e+00,  3.39935303e+01],\n       [-1.69372559e-02,  1.24687195e+01, -7.00378418e-03,\n         1.83563232e+00,  3.39326782e+01],\n       [-1.61590576e-02,  1.25068665e+01,  7.17773438e-02,\n         1.85699463e+00,  3.39707031e+01],\n       ...,\n       [ 8.63800049e-02,  1.30901337e+01,  1.99768066e-01,\n         8.04138184e-01,  3.49432983e+01],\n       [ 1.39938354e-01,  1.30813599e+01,  2.27645874e-01,\n         8.34655762e-01,  3.49402466e+01],\n       [ 2.38998413e-01,  1.30802155e+01,  2.18078613e-01,\n         8.37707520e-01,  3.49479065e+01]])"
     },
     "metadata": {},
     "output_type": "execute_result",
     "execution_count": 5
    }
   ],
   "source": [
    "ecg = dfChest.iloc[0]['ECG']\n",
    "eda = dfChest.iloc[0]['EDA']\n",
    "emg = dfChest.iloc[0]['EMG']\n",
    "resp = dfChest.iloc[0]['Resp']\n",
    "temp = dfChest.iloc[0]['Temp']\n",
    "dfChestArray= np.concatenate((ecg,eda,emg,resp,temp), axis=1)\n",
    "dfChestArray"
   ]
  },
  {
   "cell_type": "markdown",
   "metadata": {},
   "source": [
    "### Attribute set"
   ]
  },
  {
   "cell_type": "code",
   "execution_count": 6,
   "metadata": {
    "pycharm": {
     "is_executing": false
    }
   },
   "outputs": [
    {
     "name": "stdout",
     "text": [
      "        ECG        EDA       EMG      Resp       Temp\n",
      "0 -0.019226  12.506866 -0.048843  1.832581  33.993530\n",
      "1 -0.016937  12.468719 -0.007004  1.835632  33.932678\n",
      "2 -0.016159  12.506866  0.071777  1.856995  33.970703\n",
      "3 -0.012405  12.506485  0.088486  1.829529  34.008759\n",
      "4 -0.020325  12.504959  0.090271  1.817322  33.887085\n",
      "(3666600, 5)\n"
     ],
     "output_type": "stream"
    }
   ],
   "source": [
    "dfChest = pd.DataFrame(dfChestArray, columns=['ECG','EDA','EMG','Resp','Temp'])\n",
    "print(dfChest.head(5))\n",
    "print(dfChest.shape)"
   ]
  },
  {
   "cell_type": "code",
   "execution_count": 7,
   "metadata": {
    "pycharm": {
     "is_executing": false
    }
   },
   "outputs": [
    {
     "data": {
      "text/plain": "(3563700, 6)"
     },
     "metadata": {},
     "output_type": "execute_result",
     "execution_count": 7
    }
   ],
   "source": [
    "bigdata = pd.merge(dfChest,labels, left_index=True, right_index=True)\n",
    "bigdata = bigdata[bigdata.label < 5]\n",
    "bigdata.shape"
   ]
  },
  {
   "cell_type": "code",
   "execution_count": 8,
   "metadata": {
    "pycharm": {
     "is_executing": false
    }
   },
   "outputs": [
    {
     "data": {
      "text/plain": "              ECG        EDA       EMG      Resp       Temp  label\n2382660  0.122177  18.065262  0.003616  0.509644  34.861572      2\n2576607 -0.183975  19.937515  0.001053 -2.900696  35.001923      2\n1674711 -0.038315  11.547470 -0.004623 -2.394104  34.617126      4\n3547022  0.150467  12.373352 -0.005905 -2.510071  34.806183      0\n56642   -0.080521  12.831497 -0.022476  1.350403  34.156555      0",
      "text/html": "<div>\n<style scoped>\n    .dataframe tbody tr th:only-of-type {\n        vertical-align: middle;\n    }\n\n    .dataframe tbody tr th {\n        vertical-align: top;\n    }\n\n    .dataframe thead th {\n        text-align: right;\n    }\n</style>\n<table border=\"1\" class=\"dataframe\">\n  <thead>\n    <tr style=\"text-align: right;\">\n      <th></th>\n      <th>ECG</th>\n      <th>EDA</th>\n      <th>EMG</th>\n      <th>Resp</th>\n      <th>Temp</th>\n      <th>label</th>\n    </tr>\n  </thead>\n  <tbody>\n    <tr>\n      <th>2382660</th>\n      <td>0.122177</td>\n      <td>18.065262</td>\n      <td>0.003616</td>\n      <td>0.509644</td>\n      <td>34.861572</td>\n      <td>2</td>\n    </tr>\n    <tr>\n      <th>2576607</th>\n      <td>-0.183975</td>\n      <td>19.937515</td>\n      <td>0.001053</td>\n      <td>-2.900696</td>\n      <td>35.001923</td>\n      <td>2</td>\n    </tr>\n    <tr>\n      <th>1674711</th>\n      <td>-0.038315</td>\n      <td>11.547470</td>\n      <td>-0.004623</td>\n      <td>-2.394104</td>\n      <td>34.617126</td>\n      <td>4</td>\n    </tr>\n    <tr>\n      <th>3547022</th>\n      <td>0.150467</td>\n      <td>12.373352</td>\n      <td>-0.005905</td>\n      <td>-2.510071</td>\n      <td>34.806183</td>\n      <td>0</td>\n    </tr>\n    <tr>\n      <th>56642</th>\n      <td>-0.080521</td>\n      <td>12.831497</td>\n      <td>-0.022476</td>\n      <td>1.350403</td>\n      <td>34.156555</td>\n      <td>0</td>\n    </tr>\n  </tbody>\n</table>\n</div>"
     },
     "metadata": {},
     "output_type": "execute_result",
     "execution_count": 8
    }
   ],
   "source": [
    "#smaller sample reduction\n",
    "sample = bigdata.sample(100000)\n",
    "sample.head(5)"
   ]
  },
  {
   "cell_type": "markdown",
   "metadata": {},
   "source": [
    "### Attribute set"
   ]
  },
  {
   "cell_type": "code",
   "execution_count": 9,
   "metadata": {
    "pycharm": {
     "is_executing": false
    }
   },
   "outputs": [],
   "source": [
    "targets = sample['label']\n",
    "sample = sample.drop('label', axis=1)"
   ]
  },
  {
   "cell_type": "code",
   "execution_count": 10,
   "metadata": {
    "pycharm": {
     "is_executing": false
    }
   },
   "outputs": [
    {
     "data": {
      "text/plain": "(100000, 5)"
     },
     "metadata": {},
     "output_type": "execute_result",
     "execution_count": 10
    }
   ],
   "source": [
    "sample.shape"
   ]
  },
  {
   "cell_type": "markdown",
   "metadata": {},
   "source": [
    "### Target set"
   ]
  },
  {
   "cell_type": "code",
   "execution_count": 11,
   "metadata": {
    "pycharm": {
     "is_executing": false
    }
   },
   "outputs": [
    {
     "data": {
      "text/plain": "(100000,)"
     },
     "metadata": {},
     "output_type": "execute_result",
     "execution_count": 11
    }
   ],
   "source": [
    "targets.shape"
   ]
  },
  {
   "cell_type": "code",
   "execution_count": 12,
   "metadata": {
    "pycharm": {
     "is_executing": false
    }
   },
   "outputs": [
    {
     "data": {
      "text/plain": "0    41171\n1    23155\n4    15669\n2    12713\n3     7292\nName: label, dtype: int64"
     },
     "metadata": {},
     "output_type": "execute_result",
     "execution_count": 12
    }
   ],
   "source": [
    "stat = targets.value_counts(dropna=False)\n",
    "stat"
   ]
  },
  {
   "cell_type": "code",
   "execution_count": 13,
   "metadata": {
    "pycharm": {
     "is_executing": false
    }
   },
   "outputs": [
    {
     "data": {
      "text/plain": "<pandas.plotting._core.SeriesPlotMethods object at 0x000001E3B9033780>"
     },
     "metadata": {},
     "output_type": "execute_result",
     "execution_count": 13
    },
    {
     "data": {
      "text/plain": "<Figure size 432x288 with 1 Axes>",
      "image/png": "[encoded data removed]"
     },
     "metadata": {
      "needs_background": "light"
     },
     "output_type": "display_data"
    }
   ],
   "source": [
    "stat.plot(kind='bar')\n",
    "stat.plot"
   ]
  },
  {
   "cell_type": "code",
   "execution_count": 14,
   "metadata": {
    "scrolled": false,
    "pycharm": {
     "is_executing": false
    }
   },
   "outputs": [
    {
     "name": "stdout",
     "text": [
      "(80000, 5) (80000,)\n",
      "(20000, 5) (20000,)\n"
     ],
     "output_type": "stream"
    }
   ],
   "source": [
    "X_train, X_test, y_train, y_test = train_test_split(sample.values,\n",
    "                targets, test_size=0.2, random_state=0)\n",
    "print(X_train.shape, y_train.shape)\n",
    "print(X_test.shape, y_test.shape)"
   ]
  },
  {
   "cell_type": "markdown",
   "metadata": {},
   "source": [
    "## Classification with K-NN"
   ]
  },
  {
   "cell_type": "code",
   "execution_count": 15,
   "metadata": {
    "pycharm": {
     "is_executing": false
    }
   },
   "outputs": [],
   "source": [
    "scaler = StandardScaler()\n",
    "scaler.fit(X_train)\n",
    "\n",
    "X_train = scaler.transform(X_train)\n",
    "X_test = scaler.transform(X_test)"
   ]
  },
  {
   "cell_type": "code",
   "execution_count": 16,
   "metadata": {
    "pycharm": {
     "is_executing": false
    }
   },
   "outputs": [
    {
     "data": {
      "text/plain": "KNeighborsClassifier(algorithm='auto', leaf_size=30, metric='minkowski',\n           metric_params=None, n_jobs=1, n_neighbors=9, p=2,\n           weights='uniform')"
     },
     "metadata": {},
     "output_type": "execute_result",
     "execution_count": 16
    }
   ],
   "source": [
    "from sklearn.neighbors import KNeighborsClassifier\n",
    "classifier = KNeighborsClassifier(n_neighbors=9)\n",
    "classifier.fit(X_train, y_train)"
   ]
  },
  {
   "cell_type": "code",
   "execution_count": 17,
   "metadata": {
    "pycharm": {
     "is_executing": false
    }
   },
   "outputs": [],
   "source": [
    "y_pred = classifier.predict(X_test)"
   ]
  },
  {
   "cell_type": "code",
   "execution_count": 18,
   "metadata": {
    "pycharm": {
     "is_executing": false
    }
   },
   "outputs": [
    {
     "name": "stdout",
     "text": [
      "Classification Report:\n",
      "             precision    recall  f1-score   support\n",
      "\n",
      "          0       0.93      0.84      0.88      8203\n",
      "          1       0.83      0.88      0.86      4631\n",
      "          2       0.93      0.95      0.94      2496\n",
      "          3       0.72      0.79      0.75      1455\n",
      "          4       0.77      0.86      0.81      3215\n",
      "\n",
      "avg / total       0.87      0.86      0.86     20000\n",
      "\n",
      "Confusion Matrix:\n"
     ],
     "output_type": "stream"
    },
    {
     "data": {
      "text/plain": "<Figure size 720x504 with 2 Axes>",
      "image/png": "[encoded data removed]"
     },
     "metadata": {
      "needs_background": "light"
     },
     "output_type": "display_data"
    }
   ],
   "source": [
    "import seaborn as sn\n",
    "from sklearn.metrics import classification_report, confusion_matrix\n",
    "array = confusion_matrix(y_test, y_pred)\n",
    "df_cm = pd.DataFrame(array, index = [i for i in \"01234\"],\n",
    "                  columns = [i for i in \"01234\"])\n",
    "plt.figure(figsize = (10,7))\n",
    "sn.heatmap(df_cm, annot=True)\n",
    "\n",
    "print(\"Classification Report:\")\n",
    "print(classification_report(y_test, y_pred))\n",
    "print(\"Confusion Matrix:\")"
   ]
  },
  {
   "cell_type": "code",
   "execution_count": 18,
   "metadata": {
    "pycharm": {
     "is_executing": false
    }
   },
   "outputs": [],
   "source": []
  }
 ],
 "metadata": {
  "kernelspec": {
   "display_name": "Python 3",
   "language": "python",
   "name": "python3"
  },
  "language_info": {
   "codemirror_mode": {
    "name": "ipython",
    "version": 3
   },
   "file_extension": ".py",
   "mimetype": "text/x-python",
   "name": "python",
   "nbconvert_exporter": "python",
   "pygments_lexer": "ipython3",
   "version": "3.6.1"
  },
  "pycharm": {
   "stem_cell": {
    "cell_type": "raw",
    "source": [],
    "metadata": {
     "collapsed": false
    }
   }
  }
 },
 "nbformat": 4,
 "nbformat_minor": 2
}
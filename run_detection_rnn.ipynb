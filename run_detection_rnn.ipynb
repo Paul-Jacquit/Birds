{
 "cells": [
  {
   "cell_type": "markdown",
   "source": [
    " Ce script applique les données du DCU à un modèle LSTM . \n"
   ],
   "metadata": {
    "collapsed": false
   }
  },
  {
   "cell_type": "code",
   "execution_count": 90,
   "metadata": {
    "pycharm": {
     "is_executing": false
    }
   },
   "outputs": [],
   "source": [
    "from __future__ import absolute_import, division, print_function, unicode_literals\n",
    "\n",
    "import os\n",
    "import argparse\n",
    "import copy\n",
    "\n",
    "import numpy as np\n",
    "import pandas as pd\n",
    "\n",
    "import keras\n",
    "from sklearn.model_selection import train_test_split\n",
    "\n",
    "import matplotlib.pyplot as plt\n",
    "\n",
    "\n",
    "from data_handler import DataHandler\n"
   ]
  },
  {
   "cell_type": "code",
   "execution_count": 91,
   "metadata": {
    "pycharm": {
     "is_executing": false
    }
   },
   "outputs": [],
   "source": [
    "\n",
    "from keras.layers import Activation, Dense, LSTM\n",
    "from keras.models import Sequential\n",
    "from keras.callbacks import CSVLogger\n",
    "\n",
    "\n",
    "\n",
    "def embeding(df):\n",
    "    df_copy = copy.deepcopy(df)\n",
    "    for header, values in df_copy.items():\n",
    "        df_copy[header] = pd.Categorical(df_copy[header])\n",
    "        df_copy[header] = df_copy[header].cat.codes\n",
    "    return df_copy\n",
    "\n",
    "def DA_Jitter(X, sigma):\n",
    "    myNoise = np.random.normal(loc=0, scale=sigma, size=X.shape)\n",
    "    return X+myNoise\n",
    "\n",
    "def data_augmentation(data_arr,sigma):\n",
    "    newData_arr = data_arr[:,1:8]\n",
    "    newData_arr = DA_Jitter(newData_arr, sigma)\n",
    "\n",
    "    newData_arr = np.column_stack((data_arr[:,0],newData_arr,data_arr[:,8]))\n",
    "    newData_arr = newData_arr[newData_arr[:,-1] != 1]\n",
    "    return  newData_arr"
   ]
  },
  {
   "cell_type": "code",
   "execution_count": 92,
   "metadata": {
    "pycharm": {
     "is_executing": false
    }
   },
   "outputs": [],
   "source": [
    "# parse arguments\n",
    "## general\n",
    "arg_parser = argparse.ArgumentParser()\n",
    "arg_parser.add_argument('--working_path', default='.')\n",
    "\n",
    "## data\n",
    "arg_parser.add_argument('dataset_name', default='mimic3',\n",
    "                        help='The data files should be saved in [working_path]/data/[dataset_name] directory.')\n",
    "arg_parser.add_argument('label_name', default='mortality')\n",
    "arg_parser.add_argument('--max_timesteps', type=int, default=200, \n",
    "                        help='Time series of at most # time steps are used. Default: 200.')\n",
    "arg_parser.add_argument('--max_timestamp', type=int, default=48*60*60,\n",
    "                        help='Time series of at most # seconds are used. Default: 48 (hours).')\n",
    "\n",
    "## model\n",
    "arg_parser.add_argument('--recurrent_dim', type=lambda x: x and [int(xx) for xx in x.split(',')] or [], default='64')\n",
    "arg_parser.add_argument('--hidden_dim', type=lambda x: x and [int(xx) for xx in x.split(',')] or [], default='64')\n",
    "arg_parser.add_argument('--model', default='GRUD', choices=['GRUD', 'GRUforward', 'GRU0', 'GRUsimple'])\n",
    "arg_parser.add_argument('--use_bidirectional_rnn', default=False)\n",
    "                           \n",
    "## training\n",
    "arg_parser.add_argument('--pretrained_model_file', default=None,\n",
    "                        help='If pre-trained model is provided, training will be skipped.') # e.g., [model_name]_[i_fold].h5\n",
    "arg_parser.add_argument('--epochs', type=int, default=100)\n",
    "arg_parser.add_argument('--early_stopping_patience', type=int, default=10)\n",
    "arg_parser.add_argument('--batch_size', type=int, default=2)\n",
    "\n",
    "\n",
    "## set the actual arguments if running in notebook\n",
    "if not (__name__ == '__main__' and '__file__' in globals()):\n",
    "    # '''ARGS = arg_parser.parse_args([\n",
    "    #     'mimic3',\n",
    "    #     'mortality',\n",
    "    #     '--model', 'GRUD',\n",
    "    #     '--hidden_dim', '',\n",
    "    #     '--epochs', '100'\n",
    "    # ])'''\n",
    "    ARGS = arg_parser.parse_args([\n",
    "        'detection',\n",
    "        'risk_situation',\n",
    "        '--model', 'GRUD',\n",
    "        '--hidden_dim', '',\n",
    "        '--max_timestamp', '5807537',\n",
    "        '--epochs', '100'\n",
    "    ])\n",
    "else:\n",
    "    ARGS = arg_parser.parse_args()\n",
    "\n",
    "#print('Arguments:', ARGS)"
   ]
  },
  {
   "cell_type": "code",
   "execution_count": 93,
   "metadata": {
    "pycharm": {
     "is_executing": false
    },
    "scrolled": true
   },
   "outputs": [],
   "source": [
    "# get dataset\n",
    "dataset = DataHandler(\n",
    "    data_path=os.path.join(ARGS.working_path, 'data', ARGS.dataset_name), \n",
    "    label_name=ARGS.label_name, \n",
    "    max_steps=ARGS.max_timesteps,\n",
    "    max_timestamp=ARGS.max_timestamp\n",
    ")"
   ]
  },
  {
   "cell_type": "markdown",
   "metadata": {},
   "source": [
    "### Embeding"
   ]
  },
  {
   "cell_type": "code",
   "execution_count": 94,
   "metadata": {
    "pycharm": {
     "is_executing": false
    }
   },
   "outputs": [
    {
     "name": "stdout",
     "text": [
      "1    6152\n",
      "0     526\n",
      "Name: risk_situation, dtype: int64\n"
     ],
     "output_type": "stream"
    },
    {
     "data": {
      "text/plain": "     name  latitude  longitude  step   gsr  heart_rate  skin_temp  calories  \\\n368    33        -1         -1     0  1468         109         16        36   \n369    33        -1         -1     0  1490         113         16        44   \n375    33        -1         -1     0  1539         114         16        41   \n377    33        -1         -1     0  1495           4         16        56   \n378    33        -1         -1     0  1478           7         16        59   \n380    33        -1         -1     0  1451         118         15        44   \n381    33        -1         -1     0  1468           5         15        58   \n382    33        -1         -1     0  1465         112         15        37   \n392    33        -1         -1     0    -1          -1         -1         9   \n395    33        -1         -1     0    -1          -1         -1         9   \n397    33        -1         -1     0    -1          -1         -1         9   \n410    33        -1         -1     0    14          19         13        84   \n411    33        -1         -1    44   155          10         13        64   \n412    33        -1         -1    85   153          20         14        79   \n419    -1      7188         -1     0   206         115         11        41   \n433    -1      1453         -1     0   131          95         16        11   \n436    -1      7534         -1     0    36          11         16        77   \n441    -1      1874         -1    85  1451         106          9        37   \n442    69      6513         -1     0  1478          96          9        10   \n443    69      2036         -1     0  1421          91          9         9   \n447    69      2382         -1     0    -1          91         -1         6   \n448    69      6885         -1     0  1487          90         11         9   \n451    69      2566         -1     0  1518          90         14         8   \n453    69      2550         -1     0  1496         110         16        37   \n460    69      2209         -1     0  1467          90         17         9   \n463    69        -1         -1     0  1487          89         17         9   \n465    69        -1         -1     0  1472          92         18         9   \n473    69        -1         -1     0  1495          92         21         9   \n481    69        -1         -1     0  1501          93         20         9   \n482    69        -1         -1     0  1478          86         19         9   \n\n     risk_situation  \n368               1  \n369               1  \n375               0  \n377               0  \n378               0  \n380               0  \n381               0  \n382               1  \n392               1  \n395               1  \n397               1  \n410               0  \n411               0  \n412               1  \n419               1  \n433               1  \n436               1  \n441               1  \n442               1  \n443               1  \n447               1  \n448               1  \n451               1  \n453               1  \n460               1  \n463               1  \n465               1  \n473               1  \n481               1  \n482               1  ",
      "text/html": "<div>\n<style scoped>\n    .dataframe tbody tr th:only-of-type {\n        vertical-align: middle;\n    }\n\n    .dataframe tbody tr th {\n        vertical-align: top;\n    }\n\n    .dataframe thead th {\n        text-align: right;\n    }\n</style>\n<table border=\"1\" class=\"dataframe\">\n  <thead>\n    <tr style=\"text-align: right;\">\n      <th></th>\n      <th>name</th>\n      <th>latitude</th>\n      <th>longitude</th>\n      <th>step</th>\n      <th>gsr</th>\n      <th>heart_rate</th>\n      <th>skin_temp</th>\n      <th>calories</th>\n      <th>risk_situation</th>\n    </tr>\n  </thead>\n  <tbody>\n    <tr>\n      <th>368</th>\n      <td>33</td>\n      <td>-1</td>\n      <td>-1</td>\n      <td>0</td>\n      <td>1468</td>\n      <td>109</td>\n      <td>16</td>\n      <td>36</td>\n      <td>1</td>\n    </tr>\n    <tr>\n      <th>369</th>\n      <td>33</td>\n      <td>-1</td>\n      <td>-1</td>\n      <td>0</td>\n      <td>1490</td>\n      <td>113</td>\n      <td>16</td>\n      <td>44</td>\n      <td>1</td>\n    </tr>\n    <tr>\n      <th>375</th>\n      <td>33</td>\n      <td>-1</td>\n      <td>-1</td>\n      <td>0</td>\n      <td>1539</td>\n      <td>114</td>\n      <td>16</td>\n      <td>41</td>\n      <td>0</td>\n    </tr>\n    <tr>\n      <th>377</th>\n      <td>33</td>\n      <td>-1</td>\n      <td>-1</td>\n      <td>0</td>\n      <td>1495</td>\n      <td>4</td>\n      <td>16</td>\n      <td>56</td>\n      <td>0</td>\n    </tr>\n    <tr>\n      <th>378</th>\n      <td>33</td>\n      <td>-1</td>\n      <td>-1</td>\n      <td>0</td>\n      <td>1478</td>\n      <td>7</td>\n      <td>16</td>\n      <td>59</td>\n      <td>0</td>\n    </tr>\n    <tr>\n      <th>380</th>\n      <td>33</td>\n      <td>-1</td>\n      <td>-1</td>\n      <td>0</td>\n      <td>1451</td>\n      <td>118</td>\n      <td>15</td>\n      <td>44</td>\n      <td>0</td>\n    </tr>\n    <tr>\n      <th>381</th>\n      <td>33</td>\n      <td>-1</td>\n      <td>-1</td>\n      <td>0</td>\n      <td>1468</td>\n      <td>5</td>\n      <td>15</td>\n      <td>58</td>\n      <td>0</td>\n    </tr>\n    <tr>\n      <th>382</th>\n      <td>33</td>\n      <td>-1</td>\n      <td>-1</td>\n      <td>0</td>\n      <td>1465</td>\n      <td>112</td>\n      <td>15</td>\n      <td>37</td>\n      <td>1</td>\n    </tr>\n    <tr>\n      <th>392</th>\n      <td>33</td>\n      <td>-1</td>\n      <td>-1</td>\n      <td>0</td>\n      <td>-1</td>\n      <td>-1</td>\n      <td>-1</td>\n      <td>9</td>\n      <td>1</td>\n    </tr>\n    <tr>\n      <th>395</th>\n      <td>33</td>\n      <td>-1</td>\n      <td>-1</td>\n      <td>0</td>\n      <td>-1</td>\n      <td>-1</td>\n      <td>-1</td>\n      <td>9</td>\n      <td>1</td>\n    </tr>\n    <tr>\n      <th>397</th>\n      <td>33</td>\n      <td>-1</td>\n      <td>-1</td>\n      <td>0</td>\n      <td>-1</td>\n      <td>-1</td>\n      <td>-1</td>\n      <td>9</td>\n      <td>1</td>\n    </tr>\n    <tr>\n      <th>410</th>\n      <td>33</td>\n      <td>-1</td>\n      <td>-1</td>\n      <td>0</td>\n      <td>14</td>\n      <td>19</td>\n      <td>13</td>\n      <td>84</td>\n      <td>0</td>\n    </tr>\n    <tr>\n      <th>411</th>\n      <td>33</td>\n      <td>-1</td>\n      <td>-1</td>\n      <td>44</td>\n      <td>155</td>\n      <td>10</td>\n      <td>13</td>\n      <td>64</td>\n      <td>0</td>\n    </tr>\n    <tr>\n      <th>412</th>\n      <td>33</td>\n      <td>-1</td>\n      <td>-1</td>\n      <td>85</td>\n      <td>153</td>\n      <td>20</td>\n      <td>14</td>\n      <td>79</td>\n      <td>1</td>\n    </tr>\n    <tr>\n      <th>419</th>\n      <td>-1</td>\n      <td>7188</td>\n      <td>-1</td>\n      <td>0</td>\n      <td>206</td>\n      <td>115</td>\n      <td>11</td>\n      <td>41</td>\n      <td>1</td>\n    </tr>\n    <tr>\n      <th>433</th>\n      <td>-1</td>\n      <td>1453</td>\n      <td>-1</td>\n      <td>0</td>\n      <td>131</td>\n      <td>95</td>\n      <td>16</td>\n      <td>11</td>\n      <td>1</td>\n    </tr>\n    <tr>\n      <th>436</th>\n      <td>-1</td>\n      <td>7534</td>\n      <td>-1</td>\n      <td>0</td>\n      <td>36</td>\n      <td>11</td>\n      <td>16</td>\n      <td>77</td>\n      <td>1</td>\n    </tr>\n    <tr>\n      <th>441</th>\n      <td>-1</td>\n      <td>1874</td>\n      <td>-1</td>\n      <td>85</td>\n      <td>1451</td>\n      <td>106</td>\n      <td>9</td>\n      <td>37</td>\n      <td>1</td>\n    </tr>\n    <tr>\n      <th>442</th>\n      <td>69</td>\n      <td>6513</td>\n      <td>-1</td>\n      <td>0</td>\n      <td>1478</td>\n      <td>96</td>\n      <td>9</td>\n      <td>10</td>\n      <td>1</td>\n    </tr>\n    <tr>\n      <th>443</th>\n      <td>69</td>\n      <td>2036</td>\n      <td>-1</td>\n      <td>0</td>\n      <td>1421</td>\n      <td>91</td>\n      <td>9</td>\n      <td>9</td>\n      <td>1</td>\n    </tr>\n    <tr>\n      <th>447</th>\n      <td>69</td>\n      <td>2382</td>\n      <td>-1</td>\n      <td>0</td>\n      <td>-1</td>\n      <td>91</td>\n      <td>-1</td>\n      <td>6</td>\n      <td>1</td>\n    </tr>\n    <tr>\n      <th>448</th>\n      <td>69</td>\n      <td>6885</td>\n      <td>-1</td>\n      <td>0</td>\n      <td>1487</td>\n      <td>90</td>\n      <td>11</td>\n      <td>9</td>\n      <td>1</td>\n    </tr>\n    <tr>\n      <th>451</th>\n      <td>69</td>\n      <td>2566</td>\n      <td>-1</td>\n      <td>0</td>\n      <td>1518</td>\n      <td>90</td>\n      <td>14</td>\n      <td>8</td>\n      <td>1</td>\n    </tr>\n    <tr>\n      <th>453</th>\n      <td>69</td>\n      <td>2550</td>\n      <td>-1</td>\n      <td>0</td>\n      <td>1496</td>\n      <td>110</td>\n      <td>16</td>\n      <td>37</td>\n      <td>1</td>\n    </tr>\n    <tr>\n      <th>460</th>\n      <td>69</td>\n      <td>2209</td>\n      <td>-1</td>\n      <td>0</td>\n      <td>1467</td>\n      <td>90</td>\n      <td>17</td>\n      <td>9</td>\n      <td>1</td>\n    </tr>\n    <tr>\n      <th>463</th>\n      <td>69</td>\n      <td>-1</td>\n      <td>-1</td>\n      <td>0</td>\n      <td>1487</td>\n      <td>89</td>\n      <td>17</td>\n      <td>9</td>\n      <td>1</td>\n    </tr>\n    <tr>\n      <th>465</th>\n      <td>69</td>\n      <td>-1</td>\n      <td>-1</td>\n      <td>0</td>\n      <td>1472</td>\n      <td>92</td>\n      <td>18</td>\n      <td>9</td>\n      <td>1</td>\n    </tr>\n    <tr>\n      <th>473</th>\n      <td>69</td>\n      <td>-1</td>\n      <td>-1</td>\n      <td>0</td>\n      <td>1495</td>\n      <td>92</td>\n      <td>21</td>\n      <td>9</td>\n      <td>1</td>\n    </tr>\n    <tr>\n      <th>481</th>\n      <td>69</td>\n      <td>-1</td>\n      <td>-1</td>\n      <td>0</td>\n      <td>1501</td>\n      <td>93</td>\n      <td>20</td>\n      <td>9</td>\n      <td>1</td>\n    </tr>\n    <tr>\n      <th>482</th>\n      <td>69</td>\n      <td>-1</td>\n      <td>-1</td>\n      <td>0</td>\n      <td>1478</td>\n      <td>86</td>\n      <td>19</td>\n      <td>9</td>\n      <td>1</td>\n    </tr>\n  </tbody>\n</table>\n</div>"
     },
     "metadata": {},
     "output_type": "execute_result",
     "execution_count": 94
    }
   ],
   "source": [
    "sigma = 0.05\n",
    "\n",
    "data = pd.DataFrame(dataset._data['input'])\n",
    "data = embeding(data)\n",
    "\n",
    "##on enleve fall et timestamp et fusion des classes\n",
    "df = pd.DataFrame(data)\n",
    "df.columns = [\"timestamp\",\"name\", \"latitude\", \"longitude\", \"step\",\"gsr\",\"heart_rate\",\"skin_temp\",\"calories\",\"risk_situation\"]\n",
    "df.pop(\"timestamp\")\n",
    "\n",
    "df = df[df.risk_situation != -1]\n",
    "df = df[df.risk_situation != 0]\n",
    "df = df[df.risk_situation != 3]\n",
    "\n",
    "df.loc[df.risk_situation == 4 , 'risk_situation'] = 0\n",
    "df.loc[df.risk_situation == 2 , 'risk_situation'] = 0\n",
    "# df = df[pd.notnull(df['risk_situation'])]\n",
    "\n",
    "to_remove = np.random.choice(df[df['risk_situation']==1].index,size=15000,replace=False)\n",
    "df=df.drop(to_remove)\n",
    "stat = df['risk_situation'].value_counts(dropna=False)\n",
    "print(stat)\n",
    "df.head(30)"
   ]
  },
  {
   "cell_type": "code",
   "execution_count": 95,
   "metadata": {
    "pycharm": {
     "is_executing": false
    }
   },
   "outputs": [],
   "source": [
    "targets = df.pop('risk_situation')"
   ]
  },
  {
   "cell_type": "code",
   "execution_count": 96,
   "metadata": {
    "pycharm": {
     "is_executing": false
    }
   },
   "outputs": [
    {
     "data": {
      "text/plain": "(6678,)"
     },
     "metadata": {},
     "output_type": "execute_result",
     "execution_count": 96
    }
   ],
   "source": [
    "targets.shape"
   ]
  },
  {
   "cell_type": "code",
   "execution_count": 97,
   "metadata": {
    "pycharm": {
     "is_executing": false
    }
   },
   "outputs": [
    {
     "name": "stdout",
     "text": [
      "(6678,)\n",
      "(4674, 8) (4674,)\n",
      "(1336, 8) (1336,)\n",
      "(668, 8) (668,)\n"
     ],
     "output_type": "stream"
    }
   ],
   "source": [
    "from keras.utils import to_categorical\n",
    "# targets = to_categorical(targets,2)\n",
    "\n",
    "print(targets.shape)\n",
    "\n",
    "\n",
    "X_train, X_val, y_train, y_val = train_test_split(df.values,\n",
    "                targets, test_size=0.2, random_state=0)\n",
    "\n",
    "X_train, X_test, y_train, y_test = train_test_split(X_train,\n",
    "                y_train, test_size=0.125, random_state=0)\n",
    "\n",
    "print(X_train.shape, y_train.shape)\n",
    "print(X_val.shape, y_val.shape)\n",
    "print(X_test.shape, y_test.shape)"
   ]
  },
  {
   "cell_type": "markdown",
   "metadata": {
    "pycharm": {
     "is_executing": false,
     "name": "#%% md\n"
    }
   },
   "source": [
    "### Data augmentation"
   ]
  },
  {
   "cell_type": "code",
   "execution_count": 98,
   "metadata": {
    "pycharm": {
     "is_executing": false,
     "name": "#%%\n"
    }
   },
   "outputs": [
    {
     "name": "stdout",
     "text": [
      "1    4291\n",
      "0     383\n",
      "Name: 8, dtype: int64\n",
      "1.0    4291\n",
      "0.0    3064\n",
      "Name: 8, dtype: int64\n"
     ],
     "output_type": "stream"
    },
    {
     "data": {
      "text/plain": "<Figure size 432x288 with 1 Axes>",
      "image/png": "[encoded data removed]"
     },
     "metadata": {
      "needs_background": "light"
     },
     "output_type": "display_data"
    }
   ],
   "source": [
    "train = np.column_stack((X_train,y_train))\n",
    "\n",
    "stat = pd.DataFrame(train)[8].value_counts(dropna=False)\n",
    "print(stat)\n",
    "\n",
    "newData_arr = data_augmentation(train, 0.05)\n",
    "X_train = np.concatenate((X_train,newData_arr[:,:8]))\n",
    "y_train = np.concatenate((y_train,newData_arr[:,8]))\n",
    "\n",
    "pd.DataFrame(train)[7].plot()\n",
    "pd.DataFrame(newData_arr)[7].plot()\n",
    "\n",
    "\n",
    "newData_arr = data_augmentation(train, 0.04)\n",
    "X_train = np.concatenate((X_train,newData_arr[:,:8]))\n",
    "y_train = np.concatenate((y_train,newData_arr[:,8]))\n",
    "\n",
    "newData_arr = data_augmentation(train, 0.06)\n",
    "X_train = np.concatenate((X_train,newData_arr[:,:8]))\n",
    "y_train = np.concatenate((y_train,newData_arr[:,8]))\n",
    "\n",
    "newData_arr = data_augmentation(train, 0.055)\n",
    "X_train = np.concatenate((X_train,newData_arr[:,:8]))\n",
    "y_train = np.concatenate((y_train,newData_arr[:,8]))\n",
    "\n",
    "newData_arr = data_augmentation(train, 0.045)\n",
    "X_train = np.concatenate((X_train,newData_arr[:,:8]))\n",
    "y_train = np.concatenate((y_train,newData_arr[:,8]))\n",
    "\n",
    "newData_arr = data_augmentation(train, 0.03)\n",
    "X_train = np.concatenate((X_train,newData_arr[:,:8]))\n",
    "y_train = np.concatenate((y_train,newData_arr[:,8]))\n",
    "\n",
    "newData_arr = data_augmentation(train, 0.07)\n",
    "X_train = np.concatenate((X_train,newData_arr[:,:8]))\n",
    "y_train = np.concatenate((y_train,newData_arr[:,8]))\n",
    "\n",
    "\n",
    "train = np.column_stack((X_train,y_train))\n",
    "stat = pd.DataFrame(train)[8].value_counts(dropna=False)\n",
    "print(stat)\n"
   ]
  },
  {
   "cell_type": "code",
   "execution_count": 99,
   "metadata": {
    "pycharm": {
     "is_executing": false
    }
   },
   "outputs": [
    {
     "name": "stdout",
     "text": [
      "7355 train sequences\n",
      "668 test sequences\n"
     ],
     "output_type": "stream"
    }
   ],
   "source": [
    "print(len(X_train), 'train sequences')\n",
    "print(len(X_test), 'test sequences')"
   ]
  },
  {
   "cell_type": "code",
   "execution_count": 100,
   "metadata": {
    "pycharm": {
     "is_executing": false
    }
   },
   "outputs": [
    {
     "name": "stdout",
     "text": [
      "Pad sequences (samples x time)\n",
      "x_train shape: (7355, 8)\n",
      "x_test shape: (668, 8)\n"
     ],
     "output_type": "stream"
    }
   ],
   "source": [
    "print('Pad sequences (samples x time)')\n",
    "#X_train = sequence.pad_sequences(X_train[:200], maxlen=maxlen)\n",
    "#X_test = sequence.pad_sequences(X_test[:200], maxlen=maxlen)\n",
    "print('x_train shape:', X_train.shape)\n",
    "print('x_test shape:', X_test.shape)\n",
    "\n"
   ]
  },
  {
   "cell_type": "code",
   "execution_count": 101,
   "metadata": {
    "pycharm": {
     "is_executing": false,
     "name": "#%%\n"
    }
   },
   "outputs": [],
   "source": [
    "#X = X_train.reshape(len(X_train),3,3)\n",
    "#y = y_train.values.reshape(len(y_train), 1)\n",
    "# reshape input to be [samples, time steps, features]\n",
    "trainX = np.reshape(X_train, (X_train.shape[0], 1, X_train.shape[1]))\n",
    "testX = np.reshape(X_test, (X_test.shape[0], 1, X_test.shape[1]))\n",
    "X_val = np.reshape(X_val, (X_val.shape[0], 1, X_val.shape[1]))\n",
    "# trainY = np.reshape(y_train, (y_train.shape[0], 1, 1))\n",
    "# testY = np.reshape(y_test, (y_test.shape[0], 1, 1))"
   ]
  },
  {
   "cell_type": "code",
   "execution_count": 102,
   "metadata": {
    "pycharm": {
     "is_executing": false
    }
   },
   "outputs": [
    {
     "name": "stdout",
     "text": [
      "(7355, 1, 8) (7355,) (668, 1, 8) (668,)\n"
     ],
     "output_type": "stream"
    }
   ],
   "source": [
    "print(trainX.shape, y_train.shape, testX.shape, y_test.shape)"
   ]
  },
  {
   "cell_type": "code",
   "execution_count": 103,
   "metadata": {
    "pycharm": {
     "is_executing": false,
     "name": "#%%\n"
    }
   },
   "outputs": [],
   "source": [
    "class LossHistory(keras.callbacks.Callback):\n",
    "    def on_train_begin(self, logs={}):\n",
    "        self.losses = []\n",
    "\n",
    "    def on_batch_end(self, batch, logs={}):\n",
    "        self.losses.append(logs.get('loss'))"
   ]
  },
  {
   "cell_type": "code",
   "execution_count": 104,
   "metadata": {
    "pycharm": {
     "is_executing": false,
     "name": "#%%\n"
    }
   },
   "outputs": [
    {
     "name": "stdout",
     "text": [
      "Building model...\n",
      "_________________________________________________________________\n",
      "Layer (type)                 Output Shape              Param #   \n",
      "=================================================================\n",
      "lstm_6 (LSTM)                (None, 8)                 544       \n",
      "_________________________________________________________________\n",
      "dense_6 (Dense)              (None, 1)                 9         \n",
      "=================================================================\n",
      "Total params: 553\n",
      "Trainable params: 553\n",
      "Non-trainable params: 0\n",
      "_________________________________________________________________\n"
     ],
     "output_type": "stream"
    }
   ],
   "source": [
    "from keras.optimizers import SGD\n",
    "opt = SGD(lr=0.001)\n",
    "# create and fit the LSTM network\n",
    "print(\"Building model...\")\n",
    "model = Sequential()\n",
    "model.add(LSTM(8, input_shape=(1, 8)))\n",
    "model.add(Dense(1, activation='softmax'))\n",
    "\n",
    "# model.compile(loss='mean_squared_error', optimizer='adam',metrics=['accuracy'])\n",
    "# model.compile(loss='mean_squared_error', optimizer=opt,metrics=['accuracy'])\n",
    "model.compile(loss='binary_crossentropy', optimizer='adam',metrics=['accuracy'])\n",
    "\n",
    "model.summary()"
   ]
  },
  {
   "cell_type": "markdown",
   "metadata": {},
   "source": [
    "## Training"
   ]
  },
  {
   "cell_type": "code",
   "execution_count": 105,
   "metadata": {
    "pycharm": {
     "is_executing": false,
     "name": "#%%\n"
    }
   },
   "outputs": [
    {
     "name": "stdout",
     "text": [
      "Training...\n",
      "Train on 7355 samples, validate on 1336 samples\n",
      "Epoch 1/50\n",
      " - 1s - loss: 6.6414 - acc: 0.5834 - val_loss: 1.0262 - val_acc: 0.9356\n",
      "Epoch 2/50\n",
      " - 0s - loss: 6.6414 - acc: 0.5834 - val_loss: 1.0262 - val_acc: 0.9356\n",
      "Epoch 3/50\n",
      " - 0s - loss: 6.6414 - acc: 0.5834 - val_loss: 1.0262 - val_acc: 0.9356\n",
      "Epoch 4/50\n",
      " - 0s - loss: 6.6414 - acc: 0.5834 - val_loss: 1.0262 - val_acc: 0.9356\n",
      "Epoch 5/50\n",
      " - 0s - loss: 6.6414 - acc: 0.5834 - val_loss: 1.0262 - val_acc: 0.9356\n",
      "Epoch 6/50\n",
      " - 0s - loss: 6.6414 - acc: 0.5834 - val_loss: 1.0262 - val_acc: 0.9356\n",
      "Epoch 7/50\n",
      " - 0s - loss: 6.6414 - acc: 0.5834 - val_loss: 1.0262 - val_acc: 0.9356\n",
      "Epoch 8/50\n",
      " - 0s - loss: 6.6414 - acc: 0.5834 - val_loss: 1.0262 - val_acc: 0.9356\n",
      "Epoch 9/50\n",
      " - 0s - loss: 6.6414 - acc: 0.5834 - val_loss: 1.0262 - val_acc: 0.9356\n",
      "Epoch 10/50\n",
      " - 0s - loss: 6.6414 - acc: 0.5834 - val_loss: 1.0262 - val_acc: 0.9356\n",
      "Epoch 11/50\n",
      " - 0s - loss: 6.6414 - acc: 0.5834 - val_loss: 1.0262 - val_acc: 0.9356\n",
      "Epoch 12/50\n",
      " - 0s - loss: 6.6414 - acc: 0.5834 - val_loss: 1.0262 - val_acc: 0.9356\n",
      "Epoch 13/50\n",
      " - 0s - loss: 6.6414 - acc: 0.5834 - val_loss: 1.0262 - val_acc: 0.9356\n",
      "Epoch 14/50\n",
      " - 0s - loss: 6.6414 - acc: 0.5834 - val_loss: 1.0262 - val_acc: 0.9356\n",
      "Epoch 15/50\n",
      " - 0s - loss: 6.6414 - acc: 0.5834 - val_loss: 1.0262 - val_acc: 0.9356\n",
      "Epoch 16/50\n",
      " - 0s - loss: 6.6414 - acc: 0.5834 - val_loss: 1.0262 - val_acc: 0.9356\n",
      "Epoch 17/50\n",
      " - 0s - loss: 6.6414 - acc: 0.5834 - val_loss: 1.0262 - val_acc: 0.9356\n",
      "Epoch 18/50\n",
      " - 0s - loss: 6.6414 - acc: 0.5834 - val_loss: 1.0262 - val_acc: 0.9356\n",
      "Epoch 19/50\n",
      " - 0s - loss: 6.6414 - acc: 0.5834 - val_loss: 1.0262 - val_acc: 0.9356\n",
      "Epoch 20/50\n",
      " - 0s - loss: 6.6414 - acc: 0.5834 - val_loss: 1.0262 - val_acc: 0.9356\n",
      "Epoch 21/50\n",
      " - 0s - loss: 6.6414 - acc: 0.5834 - val_loss: 1.0262 - val_acc: 0.9356\n",
      "Epoch 22/50\n",
      " - 0s - loss: 6.6414 - acc: 0.5834 - val_loss: 1.0262 - val_acc: 0.9356\n",
      "Epoch 23/50\n",
      " - 0s - loss: 6.6414 - acc: 0.5834 - val_loss: 1.0262 - val_acc: 0.9356\n",
      "Epoch 24/50\n",
      " - 0s - loss: 6.6414 - acc: 0.5834 - val_loss: 1.0262 - val_acc: 0.9356\n",
      "Epoch 25/50\n",
      " - 0s - loss: 6.6414 - acc: 0.5834 - val_loss: 1.0262 - val_acc: 0.9356\n",
      "Epoch 26/50\n",
      " - 0s - loss: 6.6414 - acc: 0.5834 - val_loss: 1.0262 - val_acc: 0.9356\n",
      "Epoch 27/50\n",
      " - 0s - loss: 6.6414 - acc: 0.5834 - val_loss: 1.0262 - val_acc: 0.9356\n",
      "Epoch 28/50\n",
      " - 0s - loss: 6.6414 - acc: 0.5834 - val_loss: 1.0262 - val_acc: 0.9356\n",
      "Epoch 29/50\n",
      " - 0s - loss: 6.6414 - acc: 0.5834 - val_loss: 1.0262 - val_acc: 0.9356\n",
      "Epoch 30/50\n",
      " - 0s - loss: 6.6414 - acc: 0.5834 - val_loss: 1.0262 - val_acc: 0.9356\n",
      "Epoch 31/50\n",
      " - 0s - loss: 6.6414 - acc: 0.5834 - val_loss: 1.0262 - val_acc: 0.9356\n",
      "Epoch 32/50\n",
      " - 0s - loss: 6.6414 - acc: 0.5834 - val_loss: 1.0262 - val_acc: 0.9356\n",
      "Epoch 33/50\n",
      " - 0s - loss: 6.6414 - acc: 0.5834 - val_loss: 1.0262 - val_acc: 0.9356\n",
      "Epoch 34/50\n",
      " - 0s - loss: 6.6414 - acc: 0.5834 - val_loss: 1.0262 - val_acc: 0.9356\n",
      "Epoch 35/50\n",
      " - 0s - loss: 6.6414 - acc: 0.5834 - val_loss: 1.0262 - val_acc: 0.9356\n",
      "Epoch 36/50\n",
      " - 0s - loss: 6.6414 - acc: 0.5834 - val_loss: 1.0262 - val_acc: 0.9356\n",
      "Epoch 37/50\n",
      " - 0s - loss: 6.6414 - acc: 0.5834 - val_loss: 1.0262 - val_acc: 0.9356\n",
      "Epoch 38/50\n",
      " - 0s - loss: 6.6414 - acc: 0.5834 - val_loss: 1.0262 - val_acc: 0.9356\n",
      "Epoch 39/50\n",
      " - 0s - loss: 6.6414 - acc: 0.5834 - val_loss: 1.0262 - val_acc: 0.9356\n",
      "Epoch 40/50\n",
      " - 0s - loss: 6.6414 - acc: 0.5834 - val_loss: 1.0262 - val_acc: 0.9356\n",
      "Epoch 41/50\n",
      " - 0s - loss: 6.6414 - acc: 0.5834 - val_loss: 1.0262 - val_acc: 0.9356\n",
      "Epoch 42/50\n",
      " - 0s - loss: 6.6414 - acc: 0.5834 - val_loss: 1.0262 - val_acc: 0.9356\n",
      "Epoch 43/50\n",
      " - 0s - loss: 6.6414 - acc: 0.5834 - val_loss: 1.0262 - val_acc: 0.9356\n",
      "Epoch 44/50\n",
      " - 0s - loss: 6.6414 - acc: 0.5834 - val_loss: 1.0262 - val_acc: 0.9356\n",
      "Epoch 45/50\n",
      " - 0s - loss: 6.6414 - acc: 0.5834 - val_loss: 1.0262 - val_acc: 0.9356\n",
      "Epoch 46/50\n",
      " - 0s - loss: 6.6414 - acc: 0.5834 - val_loss: 1.0262 - val_acc: 0.9356\n",
      "Epoch 47/50\n",
      " - 0s - loss: 6.6414 - acc: 0.5834 - val_loss: 1.0262 - val_acc: 0.9356\n",
      "Epoch 48/50\n",
      " - 0s - loss: 6.6414 - acc: 0.5834 - val_loss: 1.0262 - val_acc: 0.9356\n",
      "Epoch 49/50\n",
      " - 0s - loss: 6.6414 - acc: 0.5834 - val_loss: 1.0262 - val_acc: 0.9356\n",
      "Epoch 50/50\n",
      " - 0s - loss: 6.6414 - acc: 0.5834 - val_loss: 1.0262 - val_acc: 0.9356\n"
     ],
     "output_type": "stream"
    }
   ],
   "source": [
    "print(\"Training...\")\n",
    "history = LossHistory()\n",
    "csv_logger = CSVLogger('log_epoch.csv', append=False, separator=';')\n",
    "h = model.fit(trainX, y_train, epochs=50, batch_size=200, verbose=2,callbacks=[csv_logger],validation_data=(X_val, y_val))"
   ]
  },
  {
   "cell_type": "code",
   "execution_count": 106,
   "metadata": {
    "pycharm": {
     "is_executing": false,
     "name": "#%% Acc maximum sur donnée de validation avec epoch\n"
    }
   },
   "outputs": [
    {
     "name": "stdout",
     "text": [
      "0.9356287425149701\n",
      "0\n"
     ],
     "output_type": "stream"
    },
    {
     "data": {
      "text/plain": "<Figure size 432x288 with 1 Axes>",
      "image/png": "[encoded data removed]"
     },
     "metadata": {
      "needs_background": "light"
     },
     "output_type": "display_data"
    }
   ],
   "source": [
    "print(max(h.history['val_acc']))\n",
    "print(h.history['val_acc'].index(max(h.history['val_acc'])))\n",
    "      \n",
    "log = pd.read_csv('log_epoch.csv',sep=';')\n",
    "ax = plt.gca()\n",
    "\n",
    "ax.set_ylim([0,1])\n",
    "ax.set_xlim([0,50])\n",
    "\n",
    "log.plot(kind='line',x='epoch',y='acc',ax=ax)\n",
    "log.plot(kind='line',x='epoch',y='loss', color='red', ax=ax)\n",
    "\n",
    "log.plot(kind='line',x='epoch',y='val_acc',color='purple',ax=ax)\n",
    "log.plot(kind='line',x='epoch',y='val_loss', color='green', ax=ax)\n",
    "\n",
    "plt.show()"
   ]
  },
  {
   "cell_type": "code",
   "execution_count": 107,
   "metadata": {
    "pycharm": {
     "is_executing": false,
     "name": "#%%\n"
    }
   },
   "outputs": [
    {
     "name": "stdout",
     "text": [
      "             precision    recall  f1-score   support\n",
      "\n",
      "          0       0.00      0.00      0.00        57\n",
      "          1       0.91      1.00      0.96       611\n",
      "\n",
      "avg / total       0.84      0.91      0.87       668\n",
      "\n"
     ],
     "output_type": "stream"
    },
    {
     "name": "stderr",
     "text": [
      "C:\\Users\\paulj\\AppData\\Roaming\\Python\\Python36\\site-packages\\numpy\\core\\fromnumeric.py:56: FutureWarning: 'argmax' is deprecated, use 'idxmax' instead. The behavior of 'argmax'\n",
      "will be corrected to return the positional maximum in the future.\n",
      "Use 'series.values.argmax' to get the position of the maximum now.\n",
      "  return getattr(obj, method)(*args, **kwds)\n",
      "C:\\Users\\paulj\\AppData\\Roaming\\Python\\Python36\\site-packages\\sklearn\\metrics\\classification.py:1135: UndefinedMetricWarning: Precision and F-score are ill-defined and being set to 0.0 in labels with no predicted samples.\n",
      "  'precision', 'predicted', average, warn_for)\n"
     ],
     "output_type": "stream"
    },
    {
     "data": {
      "text/plain": "array([[  0,  57],\n       [  0, 611]], dtype=int64)"
     },
     "metadata": {},
     "output_type": "execute_result",
     "execution_count": 107
    }
   ],
   "source": [
    "from sklearn.metrics import classification_report\n",
    "\n",
    "y_pred = model.predict_classes(testX)\n",
    "y_test_rounded = np.argmax(y_test,axis=1)\n",
    "\n",
    "# print(y_test)\n",
    "# print(y_test)\n",
    "# \n",
    "print(classification_report(y_test, y_pred))\n",
    "\n",
    "from sklearn.metrics import confusion_matrix\n",
    "confusion_matrix(y_test, y_pred)"
   ]
  }
 ],
 "metadata": {
  "kernelspec": {
   "display_name": "Python 3",
   "language": "python",
   "name": "python3"
  },
  "language_info": {
   "codemirror_mode": {
    "name": "ipython",
    "version": 3
   },
   "file_extension": ".py",
   "mimetype": "text/x-python",
   "name": "python",
   "nbconvert_exporter": "python",
   "pygments_lexer": "ipython3",
   "version": "3.6.8"
  },
  "pycharm": {
   "stem_cell": {
    "cell_type": "raw",
    "source": [],
    "metadata": {
     "collapsed": false
    }
   }
  }
 },
 "nbformat": 4,
 "nbformat_minor": 2
}